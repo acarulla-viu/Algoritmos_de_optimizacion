{
  "nbformat": 4,
  "nbformat_minor": 0,
  "metadata": {
    "colab": {
      "provenance": [],
      "include_colab_link": true
    },
    "kernelspec": {
      "name": "python3",
      "display_name": "Python 3"
    }
  },
  "cells": [
    {
      "cell_type": "markdown",
      "metadata": {
        "id": "view-in-github",
        "colab_type": "text"
      },
      "source": [
        "<a href=\"https://colab.research.google.com/github/acarulla-viu/Algoritmos_de_optimizacion/blob/main/Proyecto_Algoritmos.ipynb\" target=\"_parent\"><img src=\"https://colab.research.google.com/assets/colab-badge.svg\" alt=\"Open In Colab\"/></a>"
      ]
    },
    {
      "cell_type": "markdown",
      "metadata": {
        "id": "hVbXYX-RfPWh"
      },
      "source": [
        "# Algoritmos de optimización - Proyecto<br>\n",
        "Nombre y apellidos: Alexandre Carulla Rodes  <br>\n",
        "URL: https://github.com/acarulla-viu/Algoritmos_de_optimizacion<br>\n",
        "Problema:\n",
        "> 3. Combinar cifras y operaciones <br>\n",
        "\n",
        "Descripción del problema:\n",
        "\n",
        "El problema consiste en analizar el siguiente problema y diseñar un algoritmo que lo resuelva.\n",
        "\n",
        "Disponemos de las nueve cifras del $1$ al $9$ (excluimos el cero) y de los cuatro signos básicos de las operaciones fundamentales: suma ($+$), resta ($-$), multiplicación ($⋅$) y división ($/$).\n",
        "\n",
        "Debemos combinarlos alternativamente sin repetir ninguno de ellos para obtener una cantidad dada. Un ejemplo sería para obtener el $4$:\n",
        "\n",
        "$4+2-6 \\,/ \\,3\\cdot1 = 4$\n",
        "\n",
        "(*) La respuesta es obligatoria\n",
        "\n",
        "\n",
        "\n",
        "\n",
        "\n",
        "                                        "
      ]
    },
    {
      "cell_type": "code",
      "metadata": {
        "id": "AiskKkzZfy4e"
      },
      "source": [
        "import math"
      ],
      "execution_count": 1,
      "outputs": []
    },
    {
      "cell_type": "markdown",
      "metadata": {
        "id": "3_-exlrTgLd-"
      },
      "source": [
        "(*)¿Cuantas posibilidades hay sin tener en cuenta las restricciones?<br>\n",
        "\n",
        "\n",
        "\n",
        "¿Cuantas posibilidades hay teniendo en cuenta todas las restricciones.\n",
        "\n",
        "\n"
      ]
    },
    {
      "cell_type": "markdown",
      "metadata": {
        "id": "WfCUqJyKhPcw"
      },
      "source": [
        "Respuesta"
      ]
    },
    {
      "cell_type": "markdown",
      "source": [
        "Para poder encontrar una expresión para la cantidad de posibilidades, podemos esquematizar las cifras y operaciones de la siguiente manera:\n",
        "\n",
        "$\\boxed{\\color{red}{D_1}}$ $\\boxed{\\color{blue}{O_1}}$ $\\boxed{\\color{red}{D_2}}$ $\\boxed{\\color{blue}{O_2}}$ $\\boxed{\\color{red}{D_3}}$ $\\boxed{\\color{blue}{O_3}}$ $\\boxed{\\color{red}{D_4}}$ $\\boxed{\\color{blue}{O_4}}$ $\\boxed{\\color{red}{D_5}}$ $=$ $\\boxed{R}$\n",
        "\n",
        "Donde:\n",
        "- $D_i$ ($\\forall i = 1, 2, 3, 4, 5$) representa un dígito del $1$ al $9$ (es decir, $D_i\\in\\{1,2,3,...,9\\}$).\n",
        "- $O_j$ ($\\forall j = 1, 2, 3, 4$) es el operador (es decir, $O_j\\in\\{+, -, \\cdot, /\\}$).\n",
        "- $R$ el resultado (entero) que se quiere que dé la expresión.\n",
        "\n",
        "Nótese que, en cada cálculo habrá cinco dígitos y cuatro operadores.\n",
        "\n",
        "Si consideramos que no hay restricciones, eso implica que tanto $D_i$ como $O_j$ pueden valer lo que sea en cualquier posición de toda la expresión, o sea, se pueden repetir dígitos y operadores. En este caso, el número de posibilidades es:\n",
        "$$ \\text{Número de posibilidades sin restricciones: }9^5 \\cdot  4^4$$\n",
        "Este cálculo es trivial, ya que para cada una de las $5$ posiciones de dígito existen $9$ opciones independientes y, del mismo modo, para cada una de las $4$ posiciones de operador hay $4$ opciones.\n",
        "\n",
        "Con restricciones (limitando a que no se repitan dígitos ni operadores) el resultado de las posibilidades queda de la siguiente manera:\n",
        "$$ \\text{Número de posibilidades con restricciones: }9\\cdot 8 \\cdot 7 \\cdot 6 \\cdot 5 \\cdot 4!$$\n",
        "\n",
        "En este caso, se tiene en cuenta que, para los dígitos, el primer puesto $D_1$ tiene $9$ opciones, el segundo $D_2$ tiene $8$ opciones, el tercero $D_3$ tiene $7$ opciones, el cuarto $D_4$ tiene $6$ opciones y el quinto $D_5$ tiene $5$ opciones; y para los operadores los cuatro signos distintos se pueden ordenar de $4!$ formas distintas."
      ],
      "metadata": {
        "id": "mqPYmXxjuc_T"
      }
    },
    {
      "cell_type": "code",
      "metadata": {
        "id": "iq6Fe32MgpDX",
        "colab": {
          "base_uri": "https://localhost:8080/"
        },
        "outputId": "9f3b5ed3-ef70-4c08-8133-6bc2f8ad345e"
      },
      "source": [
        "print(\"El número de posibilidades sin restricciones es:\", 9**5 * 4**4)\n",
        "print(\"El número de posibilidades con restricciones es:\", 9 * 8 * 7 * 6 * 5 * math.factorial(4))"
      ],
      "execution_count": 2,
      "outputs": [
        {
          "output_type": "stream",
          "name": "stdout",
          "text": [
            "El número de posibilidades sin restricciones es: 15116544\n",
            "El número de posibilidades con restricciones es: 362880\n"
          ]
        }
      ]
    },
    {
      "cell_type": "markdown",
      "metadata": {
        "id": "dzynfVJahHoY"
      },
      "source": [
        "Modelo para el espacio de soluciones<br>\n",
        "(*) ¿Cual es la estructura de datos que mejor se adapta al problema? Arguméntalo. (Es posible que hayas elegido una al principio y veas la necesidad de cambiar, arguméntalo)\n"
      ]
    },
    {
      "cell_type": "markdown",
      "metadata": {
        "id": "xFIJrOwKi2Ti"
      },
      "source": [
        "Respuesta"
      ]
    },
    {
      "cell_type": "markdown",
      "source": [
        "Lo ideal es conformar un conjunto de los datos del problema: los dígitos y los operadores. En este caso, pensándolo en programación en Python, se podría crear una lista exclusivamente para los dígitos y los operadores, pudiéndolas modificar para cambiar las entradas del problema. El conjunto de expresiones que conformen la solución también se pueden almacenar en una lista.\n",
        "\n",
        "Sin embargo, también sería posible usar el tipo de dato de conjuntos (`sets`), ya que, en esencia, los dígitos, operadores y soluciones son conjuntos matemáticos (no tendría sentido tenerlos repetidos y el orden no debería importar). Esta estructuración de los datos sería más coherente con una resolución de árbol de búsqueda con la técnica de backtracking, que es una de las soluciones que se han abordado.\n",
        "\n",
        "Tanto en el algoritmo de fuerza bruta como en el mejorado (backtracking) se han empleado listas, aunque en el de backtraking lo ideal hubiese sido usar `sets` y explotar la sencillez de sus operaciones."
      ],
      "metadata": {
        "id": "ldINA5ONSYLn"
      }
    },
    {
      "cell_type": "markdown",
      "metadata": {
        "id": "7Z9U2W7bi-XS"
      },
      "source": [
        "Según el modelo para el espacio de soluciones<br>\n",
        "(*)¿Cual es la función objetivo?\n",
        "\n",
        "(*)¿Es un problema de maximización o minimización?"
      ]
    },
    {
      "cell_type": "markdown",
      "metadata": {
        "id": "hBalWLM7j1_d"
      },
      "source": [
        "Respuesta"
      ]
    },
    {
      "cell_type": "markdown",
      "source": [
        "La función objetivo $F$ con un resultado deseado $R$ es:\n",
        "$$ F(e) = |\\text{eval}(e) - R| $$\n",
        "\n",
        "Donde:\n",
        "- $e$ es la expresión generada con una determinada combinación de dígitos y operadores.\n",
        "- $\\text{eval}$ denota la evaluación matemática de una expresión.\n",
        "\n",
        "En este caso, se pretende encontrar la combinación de dígitos y operadores determinados para que la función objetivo sea $F(e)=0$ (es decir, $\\text{eval}(e) = R$), de hecho, se busca que la función objetivo dé exactamente cero y no se consideran como válidos resultados que puedan quedarse muy cerca del cero, puesto que se pretende encontrar una combinación que dé exactamente el resultado deseado.\n",
        "\n",
        "Viéndolo desde la función objetivo definida $F(e)$, este es un problema de minimización, ya que, como es una función con el valor absoluto (sin otros términos fuera del valor absoluto que añadan algún desplazamiento), el valor mínimo se encuentra en el cero (que es el mínimo de un función de valor absoluto). Por este motivo, es importante mencionar que no es un problema de minimización como tal, ya que se busca encontrar soluciones con un resultado matemático en concreto.\n",
        "\n",
        "En realidad, la función objetivo se podría haber definido de forma distinta, como, por ejemplo, la resta cuadrática, ya que cuando da cero, es un mínimo y también se satisface que $\\text{eval}(e) = R$. Otra opción podría haber sido no usar el valor absoluto en la función objetivo definida, sin embargo, en ese caso se estaría admitiendo resultados positivos y negativos, y no se tendría un mínimo en cero."
      ],
      "metadata": {
        "id": "brEYtZVIUJ-6"
      }
    },
    {
      "cell_type": "markdown",
      "metadata": {
        "id": "rlnTYgY1j6I2"
      },
      "source": [
        "Diseña un algoritmo para resolver el problema por fuerza bruta"
      ]
    },
    {
      "cell_type": "markdown",
      "metadata": {
        "id": "70rDgxYXkC8r"
      },
      "source": [
        "Respuesta"
      ]
    },
    {
      "cell_type": "code",
      "metadata": {
        "id": "CJb5sQ0qkENy"
      },
      "source": [
        "def brute_force_solver(R, digits, operators):\n",
        "  \"\"\"\n",
        "  Resolución mediante fuerza bruta\n",
        "\n",
        "  Entradas:\n",
        "  - R: Resultado deseado de la expresión.\n",
        "  - digits: Conjunto de dígitos numéricos para la expresión.\n",
        "  - operators: Conjunto de operadores para la expresión.\n",
        "\n",
        "  Salidas:\n",
        "  - solutions: Conjunto de expresiones que son solución.\n",
        "  \"\"\"\n",
        "  solutions = []\n",
        "  # Análisis de los dígitos\n",
        "  for d1 in digits: # Recorrido del primer dígito\n",
        "    for d2 in digits: # Recorrido del segundo dígito\n",
        "      if d2 == d1: # Restricción para no repetir dígitos\n",
        "        continue\n",
        "      for d3 in digits: # Recorrido del tercer dígito\n",
        "        if d3 in [d1, d2]: # Restricción para no repetir dígitos\n",
        "          continue\n",
        "        for d4 in digits: # Recorrido del cuarto dígito\n",
        "          if d4 in [d1, d2, d3]: # Restricción para no repetir dígitos\n",
        "            continue\n",
        "          for d5 in digits: # Recorrido del quinto dígito\n",
        "            if d5 in [d1, d2, d3, d4]: # Restricción para no repetir dígitos\n",
        "              continue\n",
        "            # Análisis de los operadores\n",
        "            for o1 in operators: # Recorrido del primer operador\n",
        "              for o2 in operators: # Recorrido del segundo operador\n",
        "                if o2 == o1: # Restricción para no repetir operadores\n",
        "                  continue\n",
        "                for o3 in operators: # Recorrido del tercer operador\n",
        "                  if o3 in [o1, o2]: # Restricción para no repetir operadores\n",
        "                    continue\n",
        "                  for o4 in operators: # Recorrido del cuarto operador\n",
        "                    if o4 in [o1, o2, o3]: # Restricción para no repetir operadores\n",
        "                      continue\n",
        "                    expression = eval(f\"{d1}{o1}{d2}{o2}{d3}{o3}{d4}{o4}{d5}\")\n",
        "\n",
        "                    # Se comprueba si la expresión construida coincide con el resultado deseado\n",
        "                    if expression == R:\n",
        "                      expr = f\"{d1}{o1}{d2}{o2}{d3}{o3}{d4}{o4}{d5}\"\n",
        "                      solutions.append(expr)\n",
        "\n",
        "  return solutions"
      ],
      "execution_count": 14,
      "outputs": []
    },
    {
      "cell_type": "code",
      "source": [
        "R = 4 # Resultado deseado de las expresiones\n",
        "digits = [1, 2, 3, 4, 5, 6, 7, 8, 9]\n",
        "operators = ['+', '-', '*', '/']\n",
        "solutions = brute_force_solver(R, digits, operators)\n",
        "\n",
        "\"\"\"\n",
        "print(f\"Expresiones que dan como resultado exactamente {R}:\")\n",
        "for i, solution in enumerate(solutions):\n",
        "  print(f\"{solution} = {R}\")\n",
        "\"\"\"\n",
        "\n",
        "print(f\"Total de soluciones encontradas: {len(solutions)}\")"
      ],
      "metadata": {
        "colab": {
          "base_uri": "https://localhost:8080/"
        },
        "id": "hvrrdIs325gm",
        "outputId": "cac64096-f7f6-4f80-b1be-c828102dbfd7"
      },
      "execution_count": 19,
      "outputs": [
        {
          "output_type": "stream",
          "name": "stdout",
          "text": [
            "Total de soluciones encontradas: 1064\n"
          ]
        }
      ]
    },
    {
      "cell_type": "markdown",
      "source": [
        "De forma simplficada, la función `brute_force` mediante fuerza bruta recorre todas las posibilidades que existen de dígitos y operadores para un resultado deseado dado. Por este motivo, se recorre cada posible posición en la que puede haber un dígito u operador mediante bucles anidados. Además, como no se pueden repetir los dígitos y operadores, se ha impuesto mediante condicionales la exclusión de esas soluciones mediante la sentencia `continue` para que se salga del bucle y se empiece a recorrer otra posibilidad."
      ],
      "metadata": {
        "id": "7nVbrysu9R1n"
      }
    },
    {
      "cell_type": "markdown",
      "metadata": {
        "id": "tgrnsC2nkFa8"
      },
      "source": [
        "Calcula la complejidad del algoritmo por fuerza bruta"
      ]
    },
    {
      "cell_type": "markdown",
      "metadata": {
        "id": "9eUd3xwckP68"
      },
      "source": [
        "Respuesta"
      ]
    },
    {
      "cell_type": "markdown",
      "source": [
        "Observando la función desarrollada `brute_force` se puede notar que hay varios bucles anidados. Esta estructura facilita notablemente la obtención de la complejidad computacional $\\mathcal{O}$.\n",
        "\n",
        "Si denotamos $D$ como dígitos disponibles, $O$ como los operadores disponibles y $k$ el número de posiciones para los dígitos (en otras palabras, casillas posibles para los dígitos). Es trivial notar que el número de posiciones para los operadores siempre será uno menos que el de los dígitos, o sea, $k-1$. Entonces, se tiene que $\\mathcal{O}(D^k O^{k-1})$.\n",
        "\n",
        "En el caso resuelto, se consideran cinco posibidades de dígitos, por lo que forzosamente el número de operadores tiene que ser cuatro. Por lo tanto, $k=5$, y la complejidad computacional es $\\mathcal{O}(D^5 O^4)$ (tipo polinómico). Se está asumiendo que el número de posiciones tanto de los dígitos ($k$) como de los operadores ($k-1$) siempre es el mismo, y que los dígitos $D$ y operadores $O$ son los datos de entrada del algoritmo.\n",
        "\n",
        "Esta complejidad computacional es coherente con la cantidad de bucles anidados que se tiene en `brute_force`: cinco respectivos a los dígitos; y cuatro respectivos a los operadores."
      ],
      "metadata": {
        "id": "IMA4J4SN6BRv"
      }
    },
    {
      "cell_type": "markdown",
      "metadata": {
        "id": "txbrmLmskReM"
      },
      "source": [
        "(*)Diseña un algoritmo que mejore la complejidad del algortimo por fuerza bruta. Argumenta por qué crees que mejora el algoritmo por fuerza bruta"
      ]
    },
    {
      "cell_type": "markdown",
      "metadata": {
        "id": "hLrVwt5QkZPD"
      },
      "source": [
        "Respuesta"
      ]
    },
    {
      "cell_type": "code",
      "metadata": {
        "id": "m1eyM21Vkabg"
      },
      "source": [
        "def backtracking_solver(R, digits, operators):\n",
        "  \"\"\"\n",
        "  Resolución mediante fuerza bruta\n",
        "\n",
        "  Entradas:\n",
        "  - R: Resultado deseado de la expresión.\n",
        "  - digits: Conjunto de dígitos numéricos para la expresión.\n",
        "  - operators: Conjunto de operadores para la expresión.\n",
        "\n",
        "  Salidas:\n",
        "  - solutions: Conjunto de expresiones que son solución.\n",
        "  \"\"\"\n",
        "  solutions = []\n",
        "\n",
        "  def backtrack(expr, level, used_digits, used_ops):\n",
        "    if level == 9:  # Ya no hay nada más, se acaba la recursión\n",
        "      result = eval(expr)\n",
        "      if result == R:\n",
        "        solutions.append(expr)\n",
        "      return\n",
        "    if level in [0, 2, 4, 6, 8]:  # Posición de dígito, niveles pares\n",
        "      for d in digits:\n",
        "        if d not in used_digits:\n",
        "          backtrack(expr + str(d), level + 1, used_digits + [d], used_ops)\n",
        "    else:  # Posición de operador, niveles impares\n",
        "      for o in operators:\n",
        "        if o not in used_ops:\n",
        "          # Aplicamos la poda si el último operador es + o - y el resultado parcial de la expresión (sin terminar aún) es un entero\n",
        "          if level == 7 and o in ('+', '-') and not eval(expr).is_integer():\n",
        "            continue\n",
        "          backtrack(expr + o, level + 1, used_digits, used_ops + [o])\n",
        "\n",
        "  backtrack(\"\", 0, [], [])  # Invocación inicial de la recursión\n",
        "  return solutions"
      ],
      "execution_count": 25,
      "outputs": []
    },
    {
      "cell_type": "markdown",
      "source": [
        "Para mejorar el algoritmo de fuerza bruta se ha empleado la técnica de backtracking, que permite explorar el espacio de soluciones de manera sistemática y retroceder cuando una solución parcial no puede conducir a una solución válida. Además, se ha añadido una poda para eliminar la profundización en ramas que se tiene certeza que matemáticamente no se podrán satisfacer. En concreto, se va a analizar si es necesario añadir el último operador y dígito teniendo en cuenta si el resultado parcial de la expresión es entero y queda un operador suma o resta por añadir.\n",
        "\n",
        "Por ejemplo, supongamos que, en un momento dado, se ha construido la siguiente expresión $3-2\\,/\\,5 \\cdot 4$, cuyo resultado parcial es $1.4$, y queda añadir el operador suma $+$ y un dígito. Sin embargo, dado que el resultado de la expresión tiene que ser un valor entero, directamente será matemáticamente imposible que la suma de un número decimal con otro entero dé un número entero (y lo mismo pasaría con el operador resta). Por lo tanto, cuando el último operador es una suma `+` o resta `-` y la expresión construida parcialmente da como resultado un valor decimal, se decide no seguir profundizando ya que no tendría sentido. Es importante notar que esta estrategia con los operadores multiplicación `*` y división `/` no es posible hacerla.\n",
        "\n",
        "Por lo tanto, esto se trata de una estrategia de poda, y se evita continuar explorando aquellas expresiones, haciendo que el espacio del árbol a recorrer sea menor, siendo lógicamente mejor que el algoritmo de fuerza bruta. En el caso de no añadir ninguna poda, se recorrería todo el árbol y eso sería equivalente a recorrer todas las posibilidades tal como se hacía con la fuerza bruta.\n",
        "\n",
        "Respecto al algoritmo, se ha definido la posición de cada dígito como `[0, 2, 4, 6, 8]` y la posición de cada operador como `[1, 3, 5, 7, 9]`, y en la función `backtrack` dicha posición es la variable `level`. Por este motivo, cuando `level=7`, se analiza la viabilidad matemática tal como se ha comentado recientemente. También, es interesante notar que, cuando `level=9`, ya no hay que añadir más dígitos u operadores y se calcula el resultado final de la expresión construida."
      ],
      "metadata": {
        "id": "jFgUguhrXQRH"
      }
    },
    {
      "cell_type": "markdown",
      "metadata": {
        "id": "eGDB4K6uk1iN"
      },
      "source": [
        "(*)Calcula la complejidad del algoritmo"
      ]
    },
    {
      "cell_type": "markdown",
      "metadata": {
        "id": "NhpTh_BPk1ms"
      },
      "source": [
        "Respuesta"
      ]
    },
    {
      "cell_type": "markdown",
      "source": [
        "Como ya se ha comentado, la complejidad con fuerza bruta (es decir, recorriendo todo el espacio) es $\\mathcal{O}(D^5 O^4)$. En el caso del algoritmo de backtracking no es tan evidente calcular la complejidad computacional, sin embargo, es posible realizar una estimación de la misma.\n",
        "\n",
        "Mediante la técnica de poda implementada, en la gran parte de los casos se va a ejecutar dicha poda para el último operador y dígito, ya que la probabilidad de que los primeros dígitos y operandos (que contienen multiplicaciones y divisiones) den un resultado no entero es muy alta. Por lo tanto, si asumimos que la poda se va a realizar en gran parte de los casos, podemos despreciar esas últimas iteraciones, tanto la del último operador como la del último dígito, bajando la complejidad. Así pues, en el mejor de los casos se va a tener que la complejidad computacional con la poda es cercana a $\\mathcal{O}(D^4 O^3)$."
      ],
      "metadata": {
        "id": "K1MJLGdXfKY2"
      }
    },
    {
      "cell_type": "markdown",
      "metadata": {
        "id": "3M6QjTsSkmYe"
      },
      "source": [
        "Según el problema (y tenga sentido), diseña un juego de datos de entrada aleatorios"
      ]
    },
    {
      "cell_type": "markdown",
      "metadata": {
        "id": "Jc3_OlyNkvjZ"
      },
      "source": [
        "Respuesta"
      ]
    },
    {
      "cell_type": "code",
      "source": [],
      "metadata": {
        "id": "wHicfJValm7U"
      },
      "execution_count": null,
      "outputs": []
    },
    {
      "cell_type": "markdown",
      "source": [
        "¿No aplica a este problema?"
      ],
      "metadata": {
        "id": "J7CQ_4eMbtJ7"
      }
    },
    {
      "cell_type": "markdown",
      "metadata": {
        "id": "zy5ZROmjlGo1"
      },
      "source": [
        "Aplica el algoritmo al juego de datos generado"
      ]
    },
    {
      "cell_type": "markdown",
      "metadata": {
        "id": "_Cmj-PVylMsa"
      },
      "source": [
        "Respuesta"
      ]
    },
    {
      "cell_type": "markdown",
      "source": [
        "¿No aplica a este problema?"
      ],
      "metadata": {
        "id": "CtbCpXkwcFrz"
      }
    },
    {
      "cell_type": "markdown",
      "metadata": {
        "id": "eTFWUJQrtGcv"
      },
      "source": [
        "Enumera las referencias que has utilizado(si ha sido necesario) para llevar a cabo el trabajo"
      ]
    },
    {
      "cell_type": "markdown",
      "metadata": {
        "id": "YKQ_mRBttWsP"
      },
      "source": [
        "Respuesta"
      ]
    },
    {
      "cell_type": "markdown",
      "metadata": {
        "id": "kAkDPUyRtYyH"
      },
      "source": [
        "Describe brevemente las lineas de como crees que es posible avanzar en el estudio del problema. Ten en cuenta incluso posibles variaciones del problema y/o variaciones al alza del tamaño"
      ]
    },
    {
      "cell_type": "markdown",
      "metadata": {
        "id": "IE0uZmo-tZu-"
      },
      "source": [
        "Respuesta"
      ]
    },
    {
      "cell_type": "markdown",
      "source": [
        "(Aplicar heurísticas del estilo:\n",
        "- Si se usa / y el primer dígito (o sea numerador) es más pequeño que el segundo dígito (o sea denominador), automáticamente\n",
        "- Si en un instante parcial de la expresión\n",
        "Sin embargo, esto no mejoraría la complejidad computacional, quizás en cuanto a cota en promedio sería más lejos que la definida, pero sí podría reducir el número de operaciones)"
      ],
      "metadata": {
        "id": "gfm_P1-5r4KD"
      }
    }
  ]
}