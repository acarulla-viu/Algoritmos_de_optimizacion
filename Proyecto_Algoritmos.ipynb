{
  "nbformat": 4,
  "nbformat_minor": 0,
  "metadata": {
    "colab": {
      "provenance": [],
      "include_colab_link": true
    },
    "kernelspec": {
      "name": "python3",
      "display_name": "Python 3"
    }
  },
  "cells": [
    {
      "cell_type": "markdown",
      "metadata": {
        "id": "view-in-github",
        "colab_type": "text"
      },
      "source": [
        "<a href=\"https://colab.research.google.com/github/acarulla-viu/Algoritmos_de_optimizacion/blob/main/Proyecto_Algoritmos.ipynb\" target=\"_parent\"><img src=\"https://colab.research.google.com/assets/colab-badge.svg\" alt=\"Open In Colab\"/></a>"
      ]
    },
    {
      "cell_type": "markdown",
      "metadata": {
        "id": "hVbXYX-RfPWh"
      },
      "source": [
        "# Algoritmos de optimización - Proyecto<br>\n",
        "Nombre y apellidos: Alexandre Carulla Rodes  <br>\n",
        "URL: https://github.com/acarulla-viu/Algoritmos_de_optimizacion<br>\n",
        "Problema:\n",
        "> 3. Combinar cifras y operaciones <br>\n",
        "\n",
        "Descripción del problema:\n",
        "\n",
        "El problema consiste en analizar el siguiente problema y diseñar un algoritmo que lo resuelva.\n",
        "\n",
        "Disponemos de las nueve cifras del $1$ al $9$ (excluimos el cero) y de los cuatro signos básicos de las operaciones fundamentales: suma ($+$), resta ($-$), multiplicación ($⋅$) y división ($/$).\n",
        "\n",
        "Debemos combinarlos alternativamente sin repetir ninguno de ellos para obtener una cantidad dada. Un ejemplo sería para obtener el $4$:\n",
        "\n",
        "$4+2-6 \\,/ \\,3\\cdot1 = 4$\n",
        "\n",
        "(*) La respuesta es obligatoria\n",
        "\n",
        "\n",
        "\n",
        "\n",
        "\n",
        "                                        "
      ]
    },
    {
      "cell_type": "code",
      "metadata": {
        "id": "AiskKkzZfy4e"
      },
      "source": [
        "import math"
      ],
      "execution_count": 1,
      "outputs": []
    },
    {
      "cell_type": "markdown",
      "metadata": {
        "id": "3_-exlrTgLd-"
      },
      "source": [
        "(*)¿Cuantas posibilidades hay sin tener en cuenta las restricciones?<br>\n",
        "\n",
        "\n",
        "\n",
        "¿Cuantas posibilidades hay teniendo en cuenta todas las restricciones.\n",
        "\n",
        "\n"
      ]
    },
    {
      "cell_type": "markdown",
      "metadata": {
        "id": "WfCUqJyKhPcw"
      },
      "source": [
        "Respuesta"
      ]
    },
    {
      "cell_type": "markdown",
      "source": [
        "Para poder encontrar una expresión para la cantidad de posibilidades, podemos esquematizar las cifras y operaciones de la siguiente manera:\n",
        "\n",
        "[$\\color{red}{D_1}$] [$\\color{blue}{O_1}$] [$\\color{red}{D_2}$] [$\\color{blue}{O_2}$] [$\\color{red}{D_3}$] [$\\color{blue}{O_3}$] [$\\color{red}{D_4}$] [$\\color{blue}{O_4}$] [$\\color{red}{D_5}$] $=$ [$R$]\n",
        "\n",
        "Donde:\n",
        "- $D_i$ ($\\forall i = 1, 2, 3, 4, 5$) representa un dígito del $1$ al $9$ (es decir, $D_i\\in\\{1,2,3,...,9\\}$).\n",
        "- $O_j$ ($\\forall j = 1, 2, 3, 4$) es el operador (es decir, $O_j\\in\\{+, -, \\cdot, /\\}$).\n",
        "- $R$ el resultado (entero) que se quiere que dé la expresión.\n",
        "\n",
        "Nótese que, en cada cálculo habrá cinco dígitos y cuatro operadores.\n",
        "\n",
        "Si consideramos que no hay restricciones, eso implica que tanto $D_i$ como $O_j$ pueden valer lo que sea en cualquier posición de toda la expresión, o sea, se pueden repetir dígitos y operadores. En este caso, el número de posibilidades es:\n",
        "$$ \\text{Número de posibilidades sin restricciones: }9^5 \\cdot  4^4$$\n",
        "Este cálculo es trivial, ya que para cada una de las $5$ posiciones de dígito existen $9$ opciones independientes y, del mismo modo, para cada una de las $4$ posiciones de operador hay $4$.\n",
        "\n",
        "Con restricciones (limitando a que no se repitan dígitos ni operadores) el resultado de las posibilidades queda de la siguiente manera:\n",
        "$$ \\text{Número de posibilidades con restricciones: }9\\cdot 8 \\cdot 7 \\cdot 6 \\cdot 5 \\cdot 4!$$\n",
        "\n",
        "En este caso, se tiene en cuenta que, para los dígitos, el primer puesto $D_1$ tiene $9$ opciones, el segundo $D_2$ tiene $8$ opciones, el tercero $D_3$ tiene $7$ opciones, el cuarto $D_4$ tiene $6$ opciones y el quinto $D_5$ tiene $5$ opciones; y para los operadores los cuatro signos distintos se pueden ordenar de $4!$ formas distintas."
      ],
      "metadata": {
        "id": "mqPYmXxjuc_T"
      }
    },
    {
      "cell_type": "code",
      "metadata": {
        "id": "iq6Fe32MgpDX",
        "colab": {
          "base_uri": "https://localhost:8080/"
        },
        "outputId": "9f3b5ed3-ef70-4c08-8133-6bc2f8ad345e"
      },
      "source": [
        "print(\"El número de posibilidades sin restricciones es:\", 9**5 * 4**4)\n",
        "print(\"El número de posibilidades con restricciones es:\", 9 * 8 * 7 * 6 * 5 * math.factorial(4))"
      ],
      "execution_count": 2,
      "outputs": [
        {
          "output_type": "stream",
          "name": "stdout",
          "text": [
            "El número de posibilidades sin restricciones es: 15116544\n",
            "El número de posibilidades con restricciones es: 362880\n"
          ]
        }
      ]
    },
    {
      "cell_type": "markdown",
      "metadata": {
        "id": "dzynfVJahHoY"
      },
      "source": [
        "Modelo para el espacio de soluciones<br>\n",
        "(*) ¿Cual es la estructura de datos que mejor se adapta al problema? Argumentalo.(Es posible que hayas elegido una al principio y veas la necesidad de cambiar, arguentalo)\n"
      ]
    },
    {
      "cell_type": "markdown",
      "metadata": {
        "id": "xFIJrOwKi2Ti"
      },
      "source": [
        "Respuesta"
      ]
    },
    {
      "cell_type": "markdown",
      "source": [],
      "metadata": {
        "id": "ldINA5ONSYLn"
      }
    },
    {
      "cell_type": "code",
      "metadata": {
        "id": "38c-7-ejhJmA"
      },
      "source": [],
      "execution_count": null,
      "outputs": []
    },
    {
      "cell_type": "markdown",
      "metadata": {
        "id": "7Z9U2W7bi-XS"
      },
      "source": [
        "Según el modelo para el espacio de soluciones<br>\n",
        "(*)¿Cual es la función objetivo?\n",
        "\n",
        "(*)¿Es un problema de maximización o minimización?"
      ]
    },
    {
      "cell_type": "markdown",
      "metadata": {
        "id": "hBalWLM7j1_d"
      },
      "source": [
        "Respuesta"
      ]
    },
    {
      "cell_type": "markdown",
      "source": [
        "La función objetivo $O$ con un resultado deseado $R$ es:\n",
        "$$ O(e) = |\\text{eval}(e) - R| $$\n",
        "\n",
        "Donde:\n",
        "- $e$ es la expresión generada con una determinada combinación de dígitos y operadores.\n",
        "- $\\text{eval}$ denota la evaluación matemática de una expresión.\n",
        "\n",
        "En este caso, se pretende encontrar la combinación de dígitos y operadores determinados para que la función objetivo sea $O(e)=0$ (es decir, $\\text{eval}(e) = R$), de hecho, se busca que la función objetivo dé exactamente cero y no se consideran como válidos resultados que puedan quedarse muy cerca del cero, puesto que se pretende encontrar una combinación que dé exactamente el resultado deseado.\n",
        "\n",
        "Viéndolo desde la función objetivo definida $O(e)$, este es un problema de minimización, ya que, como es una función con el valor absoluto (sin otros términos fuera del valor absoluto que añadan algún desplazamiento), el valor mínimo se encuentra en el cero (que es el mínimo de un función de valor absoluto). Por este motivo, es importante mencionar que no es un problema de minimización como tal, ya que se busca encontrar soluciones con un resultado matemático en concreto.\n",
        "\n",
        "En realidad, la función objetivo se podría haber definido de forma distinta, como, por ejemplo, la resta cuadrática, ya que cuando da cero, es un mínimo y también se satisface que $\\text{eval}(e) = R$. Otra opción podría haber sido no usar el valor absoluto en la función objetivo definida, sin embargo, en ese caso se estaría admitiendo resultados positivos y negativos, y no se tendría un mínimo en cero."
      ],
      "metadata": {
        "id": "brEYtZVIUJ-6"
      }
    },
    {
      "cell_type": "markdown",
      "metadata": {
        "id": "rlnTYgY1j6I2"
      },
      "source": [
        "Diseña un algoritmo para resolver el problema por fuerza bruta"
      ]
    },
    {
      "cell_type": "markdown",
      "metadata": {
        "id": "70rDgxYXkC8r"
      },
      "source": [
        "Respuesta"
      ]
    },
    {
      "cell_type": "code",
      "metadata": {
        "id": "CJb5sQ0qkENy"
      },
      "source": [
        "def brute_force(R):\n",
        "  digits = [1, 2, 3, 4, 5, 6, 7, 8, 9]\n",
        "  operators = ['+', '-', '*', '/']\n",
        "  solutions = []\n",
        "  # Análisis de los dígitos\n",
        "  for d1 in digits: # Recorrido del primer dígito\n",
        "    for d2 in digits: # Recorrido del segundo dígito\n",
        "      if d2 == d1: # Restricción para no repetir dígitos\n",
        "        continue\n",
        "      for d3 in digits: # Recorrido del tercer dígito\n",
        "        if d3 in [d1, d2]: # Restricción para no repetir dígitos\n",
        "          continue\n",
        "        for d4 in digits: # Recorrido del cuarto dígito\n",
        "          if d4 in [d1, d2, d3]: # Restricción para no repetir dígitos\n",
        "            continue\n",
        "          for d5 in digits: # Recorrido del quinto dígito\n",
        "            if d5 in [d1, d2, d3, d4]: # Restricción para no repetir dígitos\n",
        "              continue\n",
        "            # Análisis de los operadores\n",
        "            for o1 in operators: # Recorrido del primer operador\n",
        "              for o2 in operators: # Recorrido del segundo operador\n",
        "                if o2 == o1: # Restricción para no repetir operadores\n",
        "                  continue\n",
        "                for o3 in operators: # Recorrido del tercer operador\n",
        "                  if o3 in [o1, o2]: # Restricción para no repetir operadores\n",
        "                    continue\n",
        "                  for o4 in operators: # Recorrido del cuarto operador\n",
        "                    if o4 in [o1, o2, o3]: # Restricción para no repetir operadores\n",
        "                      continue\n",
        "                    expression = eval(f\"{d1}{o1}{d2}{o2}{d3}{o3}{d4}{o4}{d5}\")\n",
        "\n",
        "                    # Se comprueba si la expresión construida coincide con el resultado deseado\n",
        "                    if expression == R:\n",
        "                      expr = f\"{d1}{o1}{d2}{o2}{d3}{o3}{d4}{o4}{d5}\"\n",
        "                      solutions.append(expr)\n",
        "  return solutions"
      ],
      "execution_count": 6,
      "outputs": []
    },
    {
      "cell_type": "code",
      "source": [
        "R = 4 # Resultado deseado de las expresiones\n",
        "solutions = brute_force(R)\n",
        "\n",
        "\"\"\"\n",
        "print(f\"Expresiones que dan como resultado exactamente {R}:\")\n",
        "for i, solution in enumerate(solutions):\n",
        "  print(f\"{solution} = {R}\")\n",
        "\"\"\"\n",
        "\n",
        "print(f\"Total de soluciones encontradas: {len(solutions)}\")"
      ],
      "metadata": {
        "id": "hvrrdIs325gm",
        "outputId": "70f4cd0e-a192-4bbe-bffd-9f263bb5b796",
        "colab": {
          "base_uri": "https://localhost:8080/"
        }
      },
      "execution_count": 8,
      "outputs": [
        {
          "output_type": "stream",
          "name": "stdout",
          "text": [
            "Total de soluciones encontradas: 2112\n"
          ]
        }
      ]
    },
    {
      "cell_type": "markdown",
      "metadata": {
        "id": "tgrnsC2nkFa8"
      },
      "source": [
        "Calcula la complejidad del algoritmo por fuerza bruta"
      ]
    },
    {
      "cell_type": "markdown",
      "metadata": {
        "id": "9eUd3xwckP68"
      },
      "source": [
        "Respuesta"
      ]
    },
    {
      "cell_type": "markdown",
      "source": [
        "Observando la función desarrollada `brute_force` se puede notar que hay varios bucles anidados. Esta estructura facilita notablemente"
      ],
      "metadata": {
        "id": "IMA4J4SN6BRv"
      }
    },
    {
      "cell_type": "markdown",
      "metadata": {
        "id": "txbrmLmskReM"
      },
      "source": [
        "(*)Diseña un algoritmo que mejore la complejidad del algortimo por fuerza bruta. Argumenta porque crees que mejora el algoritmo por fuerza bruta"
      ]
    },
    {
      "cell_type": "markdown",
      "metadata": {
        "id": "hLrVwt5QkZPD"
      },
      "source": [
        "Respuesta"
      ]
    },
    {
      "cell_type": "code",
      "metadata": {
        "id": "m1eyM21Vkabg"
      },
      "source": [],
      "execution_count": null,
      "outputs": []
    },
    {
      "cell_type": "markdown",
      "metadata": {
        "id": "eGDB4K6uk1iN"
      },
      "source": [
        "(*)Calcula la complejidad del algoritmo"
      ]
    },
    {
      "cell_type": "markdown",
      "metadata": {
        "id": "NhpTh_BPk1ms"
      },
      "source": [
        "Respuesta"
      ]
    },
    {
      "cell_type": "code",
      "metadata": {
        "id": "nREzhkStlCq8"
      },
      "source": [],
      "execution_count": null,
      "outputs": []
    },
    {
      "cell_type": "markdown",
      "metadata": {
        "id": "3M6QjTsSkmYe"
      },
      "source": [
        "Según el problema (y tenga sentido), diseña un juego de datos de entrada aleatorios"
      ]
    },
    {
      "cell_type": "markdown",
      "metadata": {
        "id": "Jc3_OlyNkvjZ"
      },
      "source": [
        "Respuesta"
      ]
    },
    {
      "cell_type": "code",
      "metadata": {
        "id": "sJ-N2etjkyWc"
      },
      "source": [],
      "execution_count": null,
      "outputs": []
    },
    {
      "cell_type": "markdown",
      "metadata": {
        "id": "zy5ZROmjlGo1"
      },
      "source": [
        "Aplica el algoritmo al juego de datos generado"
      ]
    },
    {
      "cell_type": "markdown",
      "metadata": {
        "id": "_Cmj-PVylMsa"
      },
      "source": [
        "Respuesta"
      ]
    },
    {
      "cell_type": "code",
      "metadata": {
        "id": "Jkx8GeiYlUz1"
      },
      "source": [],
      "execution_count": null,
      "outputs": []
    },
    {
      "cell_type": "markdown",
      "metadata": {
        "id": "eTFWUJQrtGcv"
      },
      "source": [
        "Enumera las referencias que has utilizado(si ha sido necesario) para llevar a cabo el trabajo"
      ]
    },
    {
      "cell_type": "markdown",
      "metadata": {
        "id": "YKQ_mRBttWsP"
      },
      "source": [
        "Respuesta"
      ]
    },
    {
      "cell_type": "markdown",
      "metadata": {
        "id": "kAkDPUyRtYyH"
      },
      "source": [
        "Describe brevemente las lineas de como crees que es posible avanzar en el estudio del problema. Ten en cuenta incluso posibles variaciones del problema y/o variaciones al alza del tamaño"
      ]
    },
    {
      "cell_type": "markdown",
      "metadata": {
        "id": "IE0uZmo-tZu-"
      },
      "source": [
        "Respuesta"
      ]
    }
  ]
}